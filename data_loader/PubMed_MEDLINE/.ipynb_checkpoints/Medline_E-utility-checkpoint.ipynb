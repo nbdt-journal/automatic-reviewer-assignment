{
 "cells": [
  {
   "cell_type": "markdown",
   "id": "3296e667",
   "metadata": {},
   "source": [
    "# Pubmed Medline parsing xml files using E-utilities"
   ]
  },
  {
   "cell_type": "code",
   "execution_count": null,
   "id": "46ccb13d",
   "metadata": {},
   "outputs": [],
   "source": []
  },
  {
   "cell_type": "code",
   "execution_count": null,
   "id": "09e14292",
   "metadata": {},
   "outputs": [],
   "source": [
    "import csv\n",
    "import re\n",
    "import urllib\n",
    "from time import sleep\n",
    "\n",
    "# computational[All Fields] AND (\"neurosciences\"[MeSH Terms] OR \"neurosciences\"[All Fields] OR \"neuroscience\"[All Fields])\n",
    "\n",
    "# https://eutils.ncbi.nlm.nih.gov/entrez/eutils/esearch.fcgi?db=pubmed&term=computational+neuroscience&usehistory=y&rettype=json\n",
    "\n",
    "query = \"computational+neuroscience\"\n",
    "\n",
    "# common settings between esearch and efetch\n",
    "base_url = 'http://eutils.ncbi.nlm.nih.gov/entrez/eutils/'\n",
    "db = 'db=pubmed'\n",
    "\n",
    "# esearch settings\n",
    "search_eutil = 'esearch.fcgi?'\n",
    "search_term = '&term=' + query\n",
    "search_usehistory = '&usehistory=y'\n",
    "search_rettype = '&rettype=json'\n",
    "\n",
    "# call the esearch command for the query and read the web result\n",
    "search_url = base_url+search_eutil+db+search_term+search_usehistory+search_rettype\n",
    "print(\"this is the esearch command:\\n\" + search_url + \"\\n\")\n",
    "f = urllib.request.urlopen (search_url)\n",
    "search_data = f.read().decode('utf-8')\n",
    "\n",
    "# extract the total abstract count\n",
    "total_abstract_count = int(re.findall(\"<Count>(\\d+?)</Count>\",search_data)[0])\n",
    "\n",
    "# efetch settings\n",
    "fetch_eutil = 'efetch.fcgi?'\n",
    "retmax = 20\n",
    "retstart = 0\n",
    "fetch_retmode = \"&retmode=xml\"\n",
    "fetch_rettype = \"&rettype=abstract\"\n",
    "\n",
    "# obtain webenv and querykey settings from the esearch results\n",
    "fetch_webenv = \"&WebEnv=\" + re.findall (\"<WebEnv>(\\S+)<\\/WebEnv>\", search_data)[0]\n",
    "fetch_querykey = \"&query_key=\" + re.findall(\"<QueryKey>(\\d+?)</QueryKey>\",search_data)[0]\n",
    "\n",
    "# call efetch commands using a loop until all abstracts are obtained\n",
    "run = True\n",
    "all_abstracts = list()\n",
    "loop_counter = 1\n",
    "\n",
    "while run:\n",
    "    print(\"this is efetch run number \" + str(loop_counter))\n",
    "    loop_counter += 1\n",
    "    fetch_retstart = \"&retstart=\" + str(retstart)\n",
    "    fetch_retmax = \"&retmax=\" + str(retmax)\n",
    "    # create the efetch url\n",
    "    fetch_url = base_url+fetch_eutil+db+fetch_querykey+fetch_webenv+fetch_retstart+fetch_retmax+fetch_retmode+fetch_rettype\n",
    "    print(fetch_url)\n",
    "    # open the efetch url\n",
    "    f = urllib.request.urlopen (fetch_url)\n",
    "    fetch_data = f.read().decode('utf-8')\n",
    "    # split the data into individual abstracts\n",
    "    abstracts = fetch_data.split(\"<\")\n",
    "    # append to the list all_abstracts\n",
    "    all_abstracts = all_abstracts+abstracts\n",
    "    print(\"a total of \" + str(len(all_abstracts)) + \" abstracts have been downloaded.\\n\")\n",
    "    # wait 2 seconds so we don't get blocked\n",
    "    sleep(2)\n",
    "    # update retstart to download the next chunk of abstracts\n",
    "    retstart = retstart + retmax\n",
    "    if retstart > total_abstract_count:\n",
    "        run = False"
   ]
  },
  {
   "cell_type": "code",
   "execution_count": null,
   "id": "783431d6",
   "metadata": {},
   "outputs": [],
   "source": [
    "len(all_abstracts)"
   ]
  },
  {
   "cell_type": "code",
   "execution_count": null,
   "id": "b56e5594",
   "metadata": {},
   "outputs": [],
   "source": [
    "print(all_abstracts[0])"
   ]
  },
  {
   "cell_type": "code",
   "execution_count": null,
   "id": "48e0581b",
   "metadata": {},
   "outputs": [],
   "source": []
  },
  {
   "cell_type": "code",
   "execution_count": null,
   "id": "0fdc9d06",
   "metadata": {},
   "outputs": [],
   "source": []
  },
  {
   "cell_type": "markdown",
   "id": "c8e3ca0b",
   "metadata": {},
   "source": [
    "# Parsing the XML "
   ]
  },
  {
   "cell_type": "code",
   "execution_count": 2,
   "id": "1e89af2e",
   "metadata": {},
   "outputs": [
    {
     "name": "stdout",
     "output_type": "stream",
     "text": [
      "4\n",
      "<Author ValidYN=\"Y\"><LastName>Barthélemy</LastName><ForeName>Frédéric V</ForeName><Initials>FV</Initials><AffiliationInfo><Affiliation>Institut de Neurosciences de la Timone, UMR7289, CNRS &amp; Aix-Marseille Université, 13385 Marseille, France.</Affiliation></AffiliationInfo></Author>\n",
      "None\n",
      "<Author ValidYN=\"Y\"><LastName>Fleuriet</LastName><ForeName>Jérome</ForeName><Initials>J</Initials><AffiliationInfo><Affiliation>Institut de Neurosciences de la Timone, UMR7289, CNRS &amp; Aix-Marseille Université, 13385 Marseille, France.</Affiliation></AffiliationInfo><AffiliationInfo><Affiliation>Assistance Publique-Hôpitaux de Paris, Intensive Care Unit, Raymond Poincaré Hospital, Garches, France.</Affiliation></AffiliationInfo></Author>\n",
      "None\n",
      "<Author ValidYN=\"Y\"><LastName>Perrinet</LastName><ForeName>Laurent U</ForeName><Initials>LU</Initials><Identifier Source=\"ORCID\">https://orcid.org/0000-0002-9536-010X</Identifier><AffiliationInfo><Affiliation>Institut de Neurosciences de la Timone, UMR7289, CNRS &amp; Aix-Marseille Université, 13385 Marseille, France.</Affiliation></AffiliationInfo></Author>\n",
      "None\n",
      "<Author ValidYN=\"Y\"><LastName>Masson</LastName><ForeName>Guillaume S</ForeName><Initials>GS</Initials><AffiliationInfo><Affiliation>Institut de Neurosciences de la Timone, UMR7289, CNRS &amp; Aix-Marseille Université, 13385 Marseille, France Guillaume.masson@univ-amu.fr.</Affiliation></AffiliationInfo></Author>\n",
      "None\n",
      "-----------------------------------------------------\n",
      "1\n",
      "<PublicationTypeList><PublicationType UI=\"D016428\">Journal Article</PublicationType></PublicationTypeList>\n",
      "None\n",
      "-----------------------------------------------------\n",
      "1\n",
      "<ArticleTitle>A behavioral receptive field for ocular following in monkeys: Spatial summation and its spatial frequency tuning.</ArticleTitle>\n",
      "None\n",
      "-----------------------------------------------------\n",
      "1\n",
      "<AbstractText>In human and non-human primates, reflexive tracking eye movements can be initiated at very short latency in response to a rapid shift of the image. Previous studies in humans have shown that only a part of the central visual field is optimal for driving ocular following responses. Herein, we have investigated spatial summation of motion information across a wide range of spatial frequencies and speeds of drifting gratings by recording short-latency ocular following responses in macaque monkeys. We show that optimal stimulus size for driving ocular responses cover a small (&lt;20° diameter), central part of the visual field that shrinks with higher spatial frequency. This signature of linear motion integration remains invariant with speed and temporal frequency. For low and medium spatial frequencies, we found a strong suppressive influence from surround motion, evidenced by a decrease of response amplitude for stimulus sizes larger than optimal. Such suppression disappears with gratings at high frequencies. The contribution of peripheral motion was investigated by presenting grating annuli of increasing eccentricity. We observed an exponential decay of response amplitude with grating eccentricity, the decrease being faster for higher spatial frequencies. Weaker surround suppression can thus be explained by sparser eccentric inputs at high frequencies. A Difference-of-Gaussians model best renders the antagonistic contributions of peripheral and central motions. Its best-fit parameters coincide with several, well-known spatial properties of area MT neuronal populations. These results describe the mechanism by which central motion information is automatically integrated in a context-dependent manner to drive ocular responses.<b>Significance statement</b>Ocular following is driven by visual motion at ultra-short latency in both humans and monkeys. Its dynamics reflect the properties of low-level motion integration. Here, we show that a strong center-surround suppression mechanism modulates initial eye velocity. Its spatial properties are dependent upon visual inputs' spatial frequency but are insensitive to either its temporal frequency or speed. These properties are best described with a Difference-of-Gaussian model of spatial integration. The model parameters reflect many spatial characteristics of motion sensitive neuronal populations in monkey area MT. Our results further outline the computational properties of the behavioral receptive field underpinning automatic, context-dependent motion integration.</AbstractText>\n",
      "None\n",
      "-----------------------------------------------------\n",
      "1\n",
      "<PMID Version=\"1\">35760525</PMID>\n",
      "None\n"
     ]
    }
   ],
   "source": [
    "import xml.etree.ElementTree as ET\n",
    "from urllib.request import urlopen\n",
    "\n",
    "def chunker(seq, size):\n",
    "    return (seq[pos:pos + size] for pos in xrange(0, len(seq), size))\n",
    "\n",
    "# https://eutils.ncbi.nlm.nih.gov/entrez/eutils/efetch.fcgi?db=pubmed&query_key=1&WebEnv=MCID_62bba0354f090a7ee705b3b0&retstart=0&retmax=20&retmode=xml&rettype=abstract\n",
    "\n",
    "# xml id = <PMID Version=\"1\">35760525</PMID>\n",
    "# Gives same result\n",
    "\n",
    "efetch = \"http://eutils.ncbi.nlm.nih.gov/entrez/eutils/efetch.fcgi?&db=pubmed&term=computational+neuroscience&usehistory=y&retmode=xml&id=%s\" % ('35760525')\n",
    "handle = urlopen(efetch)\n",
    "data = handle.read()\n",
    "\n",
    "root = ET.fromstring(data)\n",
    "for article in root.findall(\"PubmedArticle\"):\n",
    "    pmid = article.find(\"MedlineCitation/PMID\").text\n",
    "    year = article.find(\"MedlineCitation/Article/Journal/JournalIssue/PubDate/Year\")\n",
    "    if year is None: year = 'NA'\n",
    "    else: year = year.text\n",
    "    aulist = article.findall(\"MedlineCitation/Article/AuthorList/Author\")\n",
    "    affiliation = article.find(\"MedlineCitation/Article/AuthorList/Author/AffiliationInfo\")\n",
    "    \n",
    "    PublicationTypeList = article.findall(\"MedlineCitation/Article/PublicationTypeList\")\n",
    "    typepub = article.find(\"MedlineCitation/Article/PublicationTypeList/PublicationType\")\n",
    "    #print(pmid, year, len(aulist), affiliation, aulist, ET.dump(root))\n",
    "    print(len(aulist))\n",
    "    for author in aulist:    \n",
    "        print(ET.dump(author))\n",
    "        \n",
    "    print(\"-----------------------------------------------------\")    \n",
    "    print(len(PublicationTypeList))\n",
    "    for journal_type in PublicationTypeList:\n",
    "        print(ET.dump(journal_type))\n",
    "        \n",
    "        \n",
    "        \n",
    "    \n",
    "    ArticleTitle = article.findall(\"MedlineCitation/Article/ArticleTitle\")\n",
    "    #typepub = article.find(\"MedlineCitation/Article/PublicationTypeList/PublicationType\")\n",
    "    print(\"-----------------------------------------------------\")    \n",
    "    print(len(ArticleTitle))\n",
    "    for title in ArticleTitle:\n",
    "        print(ET.dump(title))\n",
    "        \n",
    "    \n",
    "    ArticleAbstract = article.findall(\"MedlineCitation/Article/Abstract/AbstractText\")\n",
    "    print(\"-----------------------------------------------------\")    \n",
    "    print(len(ArticleAbstract))\n",
    "    for Abstract in ArticleAbstract:\n",
    "        print(ET.dump(Abstract))\n",
    "        \n",
    "    \n",
    "    \n",
    "    PMID = article.findall(\"MedlineCitation/PMID\")\n",
    "    print(\"-----------------------------------------------------\")    \n",
    "    print(len(PMID))\n",
    "    for pmid in PMID:\n",
    "        print(ET.dump(pmid))\n",
    "    "
   ]
  },
  {
   "cell_type": "code",
   "execution_count": null,
   "id": "16bae11b",
   "metadata": {},
   "outputs": [],
   "source": []
  },
  {
   "cell_type": "code",
   "execution_count": null,
   "id": "ba3f0089",
   "metadata": {},
   "outputs": [],
   "source": []
  },
  {
   "cell_type": "code",
   "execution_count": null,
   "id": "d3e9ea0d",
   "metadata": {},
   "outputs": [],
   "source": []
  },
  {
   "cell_type": "code",
   "execution_count": null,
   "id": "90cefdcd",
   "metadata": {},
   "outputs": [],
   "source": []
  },
  {
   "cell_type": "markdown",
   "id": "e881d1e4",
   "metadata": {},
   "source": [
    "# References\n",
    "\n",
    "1. [NCBI E-utilities (Entrez Programming Utilities)](https://www.ncbi.nlm.nih.gov/books/NBK25499/)\n",
    "\n",
    "2. [Pubmed e-utility from April 2022 new version (last update before this was in 2020)](https://www.youtube.com/watch?v=aETx4MyXukk)\n"
   ]
  },
  {
   "cell_type": "code",
   "execution_count": null,
   "id": "bc78d559",
   "metadata": {},
   "outputs": [],
   "source": []
  }
 ],
 "metadata": {
  "kernelspec": {
   "display_name": "Python 3 (ipykernel)",
   "language": "python",
   "name": "python3"
  },
  "language_info": {
   "codemirror_mode": {
    "name": "ipython",
    "version": 3
   },
   "file_extension": ".py",
   "mimetype": "text/x-python",
   "name": "python",
   "nbconvert_exporter": "python",
   "pygments_lexer": "ipython3",
   "version": "3.7.13"
  }
 },
 "nbformat": 4,
 "nbformat_minor": 5
}
